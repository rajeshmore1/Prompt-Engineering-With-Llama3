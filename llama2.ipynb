{
  "nbformat": 4,
  "nbformat_minor": 0,
  "metadata": {
    "colab": {
      "provenance": [],
      "gpuType": "T4",
      "authorship_tag": "ABX9TyN4woXHpjZDmtlWEQgicmqW",
      "include_colab_link": true
    },
    "kernelspec": {
      "name": "python3",
      "display_name": "Python 3"
    },
    "language_info": {
      "name": "python"
    },
    "accelerator": "GPU"
  },
  "cells": [
    {
      "cell_type": "markdown",
      "metadata": {
        "id": "view-in-github",
        "colab_type": "text"
      },
      "source": [
        "<a href=\"https://colab.research.google.com/github/rajeshmore1/Prompt-Engineering-With-Llama3/blob/main/llama2.ipynb\" target=\"_parent\"><img src=\"https://colab.research.google.com/assets/colab-badge.svg\" alt=\"Open In Colab\"/></a>"
      ]
    },
    {
      "cell_type": "code",
      "execution_count": 1,
      "metadata": {
        "colab": {
          "base_uri": "https://localhost:8080/"
        },
        "id": "EAEVV4ORvqoU",
        "outputId": "5efe9e7e-7748-4a40-beed-b0fd4c70951c"
      },
      "outputs": [
        {
          "output_type": "stream",
          "name": "stdout",
          "text": [
            "Sat May  4 18:00:47 2024       \n",
            "+---------------------------------------------------------------------------------------+\n",
            "| NVIDIA-SMI 535.104.05             Driver Version: 535.104.05   CUDA Version: 12.2     |\n",
            "|-----------------------------------------+----------------------+----------------------+\n",
            "| GPU  Name                 Persistence-M | Bus-Id        Disp.A | Volatile Uncorr. ECC |\n",
            "| Fan  Temp   Perf          Pwr:Usage/Cap |         Memory-Usage | GPU-Util  Compute M. |\n",
            "|                                         |                      |               MIG M. |\n",
            "|=========================================+======================+======================|\n",
            "|   0  Tesla T4                       Off | 00000000:00:04.0 Off |                    0 |\n",
            "| N/A   41C    P8               9W /  70W |      0MiB / 15360MiB |      0%      Default |\n",
            "|                                         |                      |                  N/A |\n",
            "+-----------------------------------------+----------------------+----------------------+\n",
            "                                                                                         \n",
            "+---------------------------------------------------------------------------------------+\n",
            "| Processes:                                                                            |\n",
            "|  GPU   GI   CI        PID   Type   Process name                            GPU Memory |\n",
            "|        ID   ID                                                             Usage      |\n",
            "|=======================================================================================|\n",
            "|  No running processes found                                                           |\n",
            "+---------------------------------------------------------------------------------------+\n"
          ]
        }
      ],
      "source": [
        "!nvidia-smi"
      ]
    },
    {
      "cell_type": "code",
      "source": [
        "import sys\n",
        "!{sys.executable} -m pip install groq"
      ],
      "metadata": {
        "colab": {
          "base_uri": "https://localhost:8080/"
        },
        "id": "MKUeXH_T0SZP",
        "outputId": "ceaca022-66cd-4e70-cdd4-94aac051fa3f"
      },
      "execution_count": 7,
      "outputs": [
        {
          "output_type": "stream",
          "name": "stdout",
          "text": [
            "Collecting groq\n",
            "  Downloading groq-0.5.0-py3-none-any.whl.metadata (12 kB)\n",
            "Requirement already satisfied: anyio<5,>=3.5.0 in /usr/local/lib/python3.10/dist-packages (from groq) (3.7.1)\n",
            "Requirement already satisfied: distro<2,>=1.7.0 in /usr/lib/python3/dist-packages (from groq) (1.7.0)\n",
            "Collecting httpx<1,>=0.23.0 (from groq)\n",
            "  Downloading httpx-0.27.0-py3-none-any.whl.metadata (7.2 kB)\n",
            "Requirement already satisfied: pydantic<3,>=1.9.0 in /usr/local/lib/python3.10/dist-packages (from groq) (2.7.1)\n",
            "Requirement already satisfied: sniffio in /usr/local/lib/python3.10/dist-packages (from groq) (1.3.1)\n",
            "Requirement already satisfied: typing-extensions<5,>=4.7 in /usr/local/lib/python3.10/dist-packages (from groq) (4.11.0)\n",
            "Requirement already satisfied: idna>=2.8 in /usr/local/lib/python3.10/dist-packages (from anyio<5,>=3.5.0->groq) (3.7)\n",
            "Requirement already satisfied: exceptiongroup in /usr/local/lib/python3.10/dist-packages (from anyio<5,>=3.5.0->groq) (1.2.1)\n",
            "Requirement already satisfied: certifi in /usr/local/lib/python3.10/dist-packages (from httpx<1,>=0.23.0->groq) (2024.2.2)\n",
            "Collecting httpcore==1.* (from httpx<1,>=0.23.0->groq)\n",
            "  Downloading httpcore-1.0.5-py3-none-any.whl.metadata (20 kB)\n",
            "Collecting h11<0.15,>=0.13 (from httpcore==1.*->httpx<1,>=0.23.0->groq)\n",
            "  Downloading h11-0.14.0-py3-none-any.whl.metadata (8.2 kB)\n",
            "Requirement already satisfied: annotated-types>=0.4.0 in /usr/local/lib/python3.10/dist-packages (from pydantic<3,>=1.9.0->groq) (0.6.0)\n",
            "Requirement already satisfied: pydantic-core==2.18.2 in /usr/local/lib/python3.10/dist-packages (from pydantic<3,>=1.9.0->groq) (2.18.2)\n",
            "Downloading groq-0.5.0-py3-none-any.whl (75 kB)\n",
            "\u001b[2K   \u001b[90m━━━━━━━━━━━━━━━━━━━━━━━━━━━━━━━━━━━━━━━━\u001b[0m \u001b[32m75.0/75.0 kB\u001b[0m \u001b[31m4.2 MB/s\u001b[0m eta \u001b[36m0:00:00\u001b[0m\n",
            "\u001b[?25hDownloading httpx-0.27.0-py3-none-any.whl (75 kB)\n",
            "\u001b[2K   \u001b[90m━━━━━━━━━━━━━━━━━━━━━━━━━━━━━━━━━━━━━━━━\u001b[0m \u001b[32m75.6/75.6 kB\u001b[0m \u001b[31m7.5 MB/s\u001b[0m eta \u001b[36m0:00:00\u001b[0m\n",
            "\u001b[?25hDownloading httpcore-1.0.5-py3-none-any.whl (77 kB)\n",
            "\u001b[2K   \u001b[90m━━━━━━━━━━━━━━━━━━━━━━━━━━━━━━━━━━━━━━━━\u001b[0m \u001b[32m77.9/77.9 kB\u001b[0m \u001b[31m7.2 MB/s\u001b[0m eta \u001b[36m0:00:00\u001b[0m\n",
            "\u001b[?25hDownloading h11-0.14.0-py3-none-any.whl (58 kB)\n",
            "\u001b[2K   \u001b[90m━━━━━━━━━━━━━━━━━━━━━━━━━━━━━━━━━━━━━━━━\u001b[0m \u001b[32m58.3/58.3 kB\u001b[0m \u001b[31m5.8 MB/s\u001b[0m eta \u001b[36m0:00:00\u001b[0m\n",
            "\u001b[?25hInstalling collected packages: h11, httpcore, httpx, groq\n",
            "Successfully installed groq-0.5.0 h11-0.14.0 httpcore-1.0.5 httpx-0.27.0\n",
            "\u001b[33mWARNING: Running pip as the 'root' user can result in broken permissions and conflicting behaviour with the system package manager. It is recommended to use a virtual environment instead: https://pip.pypa.io/warnings/venv\u001b[0m\u001b[33m\n",
            "\u001b[0m"
          ]
        }
      ]
    },
    {
      "cell_type": "code",
      "source": [
        "import os\n",
        "from typing import Dict, List\n",
        "from groq import Groq\n",
        "\n",
        "# Get a free API key from https://console.groq.com/keys\n",
        "os.environ[\"GROQ_API_KEY\"] = \"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\"\n",
        "\n",
        "LLAMA3_70B_INSTRUCT = \"llama3-70b-8192\"\n",
        "LLAMA3_8B_INSTRUCT = \"llama3-8b-8192\"\n",
        "\n",
        "DEFAULT_MODEL = LLAMA3_70B_INSTRUCT\n",
        "\n",
        "client = Groq()\n",
        "\n",
        "def assistant(content: str):\n",
        "    return { \"role\": \"assistant\", \"content\": content }\n",
        "\n",
        "def user(content: str):\n",
        "    return { \"role\": \"user\", \"content\": content }\n",
        "\n",
        "def chat_completion(\n",
        "    messages: List[Dict],\n",
        "    model = DEFAULT_MODEL,\n",
        "    temperature: float = 0.6,\n",
        "    top_p: float = 0.9,\n",
        ") -> str:\n",
        "    response = client.chat.completions.create(\n",
        "        messages=messages,\n",
        "        model=model,\n",
        "        temperature=temperature,\n",
        "        top_p=top_p,\n",
        "    )\n",
        "    return response.choices[0].message.content\n",
        "\n",
        "\n",
        "def completion(\n",
        "    prompt: str,\n",
        "    model: str = DEFAULT_MODEL,\n",
        "    temperature: float = 0.6,\n",
        "    top_p: float = 0.9,\n",
        ") -> str:\n",
        "    return chat_completion(\n",
        "        [user(prompt)],\n",
        "        model=model,\n",
        "        temperature=temperature,\n",
        "        top_p=top_p,\n",
        "    )\n",
        "\n",
        "def complete_and_print(prompt: str, model: str = DEFAULT_MODEL):\n",
        "    print(f'==============\\n{prompt}\\n==============')\n",
        "    response = completion(prompt, model)\n",
        "    print(response, end='\\n\\n')"
      ],
      "metadata": {
        "id": "W8PWO6_r0WhX"
      },
      "execution_count": 8,
      "outputs": []
    },
    {
      "cell_type": "code",
      "source": [
        "complete_and_print(\"The typical color of the sky is: \")\n"
      ],
      "metadata": {
        "colab": {
          "base_uri": "https://localhost:8080/"
        },
        "id": "TPNCR8Pq3h-B",
        "outputId": "01a2c71b-f552-4cfe-f5a3-d0ea3bea701b"
      },
      "execution_count": 9,
      "outputs": [
        {
          "output_type": "stream",
          "name": "stdout",
          "text": [
            "==============\n",
            "The typical color of the sky is: \n",
            "==============\n",
            "Blue!\n",
            "\n"
          ]
        }
      ]
    },
    {
      "cell_type": "code",
      "source": [
        "complete_and_print(\"which model version are you?\")\n"
      ],
      "metadata": {
        "colab": {
          "base_uri": "https://localhost:8080/"
        },
        "id": "gGe4ZV6X3mj7",
        "outputId": "e1b829b0-8856-40ab-d137-5b96f476d407"
      },
      "execution_count": 10,
      "outputs": [
        {
          "output_type": "stream",
          "name": "stdout",
          "text": [
            "==============\n",
            "which model version are you?\n",
            "==============\n",
            "I'm an AI, and I'm a large language model, specifically a transformer, trained by a team of researcher at Meta AI. My model is based on the LLaMA architecture, and I'm a variant of the LLaMA-Base model.\n",
            "\n",
            "To be more specific, I'm a fine-tuned version of the LLaMA-Base model, which means I've been trained on a massive dataset of text from the internet and have been fine-tuned for conversational tasks.\n",
            "\n",
            "My model version is not a specific numbered version, but rather a continuous iteration of improvements and updates. My training data is constantly being updated and expanded to keep my knowledge up-to-date and my responses accurate.\n",
            "\n",
            "I'm happy to chat with you and answer any questions you may have!\n",
            "\n"
          ]
        }
      ]
    },
    {
      "cell_type": "markdown",
      "source": [
        "# Chat completion APIs"
      ],
      "metadata": {
        "id": "teu99DCf3w8H"
      }
    },
    {
      "cell_type": "code",
      "source": [
        "response = chat_completion(messages=[\n",
        "    user(\"My favorite color is blue.\"),\n",
        "    assistant(\"That's great to hear!\"),\n",
        "    user(\"What is my favorite color?\"),\n",
        "])\n",
        "print(response)\n",
        "# \"Sure, I can help you with that! Your favorite color is blue.\""
      ],
      "metadata": {
        "colab": {
          "base_uri": "https://localhost:8080/"
        },
        "id": "7UDhP0g_3pKE",
        "outputId": "2a3afd95-ebc1-4bd1-b4ad-6a49d1638e0b"
      },
      "execution_count": 11,
      "outputs": [
        {
          "output_type": "stream",
          "name": "stdout",
          "text": [
            "I remember! Your favorite color is blue!\n"
          ]
        }
      ]
    },
    {
      "cell_type": "code",
      "source": [
        "def print_tuned_completion(temperature: float, top_p: float):\n",
        "    response = completion(\"Write a haiku about llamas\", temperature=temperature, top_p=top_p)\n",
        "    print(f'[temperature: {temperature} | top_p: {top_p}]\\n{response.strip()}\\n')\n",
        "\n",
        "print_tuned_completion(0.01, 0.01)\n",
        "print_tuned_completion(0.01, 0.01)\n",
        "# These two generations are highly likely to be the same\n",
        "\n",
        "print_tuned_completion(1.0, 1.0)\n",
        "print_tuned_completion(1.0, 1.0)\n",
        "# These two generations are highly likely to be different"
      ],
      "metadata": {
        "colab": {
          "base_uri": "https://localhost:8080/"
        },
        "id": "toiG9d423wW1",
        "outputId": "720a376f-e97d-410c-a7b9-3ee7eaadb10e"
      },
      "execution_count": 12,
      "outputs": [
        {
          "output_type": "stream",
          "name": "stdout",
          "text": [
            "[temperature: 0.01 | top_p: 0.01]\n",
            "Softly gaze at me\n",
            "Llama's gentle, fuzzy form\n",
            "Serenity\n",
            "\n",
            "[temperature: 0.01 | top_p: 0.01]\n",
            "Softly gaze at me\n",
            "Llama's gentle, fuzzy form\n",
            "Serenity\n",
            "\n",
            "[temperature: 1.0 | top_p: 1.0]\n",
            "Softly gaze at me\n",
            "Whispers of their gentle hum\n",
            "Misty morning calm\n",
            "\n",
            "[temperature: 1.0 | top_p: 1.0]\n",
            "Softly eyes gaze deep\n",
            "Fur a soft and fuzzy cloak\n",
            "Llama's gentle soul\n",
            "\n"
          ]
        }
      ]
    },
    {
      "cell_type": "code",
      "source": [
        "complete_and_print(prompt=\"Describe quantum physics in one short sentence of no more than 12 words\")\n",
        "# Returns a succinct explanation of quantum physics that mentions particles and states existing simultaneously."
      ],
      "metadata": {
        "colab": {
          "base_uri": "https://localhost:8080/"
        },
        "id": "v_CJOm4K35dl",
        "outputId": "a3266cb2-11ba-4b2f-acf2-9f1c932bb359"
      },
      "execution_count": 13,
      "outputs": [
        {
          "output_type": "stream",
          "name": "stdout",
          "text": [
            "==============\n",
            "Describe quantum physics in one short sentence of no more than 12 words\n",
            "==============\n",
            "Quantum physics: Where tiny things behave weirdly and defy classical logic.\n",
            "\n"
          ]
        }
      ]
    },
    {
      "cell_type": "code",
      "source": [
        "complete_and_print(prompt=\"Create customised diet plan for one week. My age is 33 years, weight is 71 Kg, height is 6.7 ft. I suffer from Hypertension and like Maharashrian Food\")\n"
      ],
      "metadata": {
        "colab": {
          "base_uri": "https://localhost:8080/"
        },
        "id": "JUvUxNAk3-G2",
        "outputId": "6b0bca19-171e-4713-b333-00ab8f4ddd2d"
      },
      "execution_count": 14,
      "outputs": [
        {
          "output_type": "stream",
          "name": "stdout",
          "text": [
            "==============\n",
            "Create customised diet plan for one week. My age is 33 years, weight is 71 Kg, height is 6.7 ft. I suffer from Hypertension and like Maharashrian Food\n",
            "==============\n",
            "I'd be happy to help you with a customized diet plan for one week, taking into account your age, weight, height, health condition (Hypertension), and food preferences (Maharashtrian cuisine).\n",
            "\n",
            "**Dietary Goals:**\n",
            "\n",
            "1. Manage Hypertension through a balanced diet\n",
            "2. Maintain a healthy weight (71 kg)\n",
            "3. Incorporate Maharashtrian food preferences\n",
            "\n",
            "**Diet Plan (One Week):**\n",
            "\n",
            "**Monday**\n",
            "\n",
            "* Breakfast: Poha with vegetables (e.g., peas, carrots, onions) and a glass of low-fat milk (300 calories)\n",
            "* Mid-Morning Snack: Fresh fruit (e.g., banana, apple) (100 calories)\n",
            "* Lunch: Brown rice with dal (lentil soup), mixed vegetables (e.g., cauliflower, potatoes, peas), and a small serving of ghee (400 calories)\n",
            "* Evening Snack: Roasted chana (chickpeas) seasoned with cumin and coriander (150 calories)\n",
            "* Dinner: Solkadhi (a Maharashtrian curry made with kokum, coconut milk, and spices) with brown rice and mixed vegetables (500 calories)\n",
            "\n",
            "**Tuesday**\n",
            "\n",
            "* Breakfast: Whole wheat bhakri with avocado and a glass of low-fat milk (350 calories)\n",
            "* Mid-Morning Snack: Yogurt with cucumber and cumin seeds (150 calories)\n",
            "* Lunch: Varan-bhaat (lentil curry) with brown rice, mixed vegetables, and a small serving of ghee (450 calories)\n",
            "* Evening Snack: Fresh fruit salad with a sprinkle of cardamom powder (120 calories)\n",
            "* Dinner: Grilled fish (e.g., surmai or pomfret) with a side of mixed vegetables and brown rice (400 calories)\n",
            "\n",
            "**Wednesday**\n",
            "\n",
            "* Breakfast: Oatmeal with banana, almond milk, and a sprinkle of cinnamon (300 calories)\n",
            "* Mid-Morning Snack: Carrot and cucumber sticks with hummus (100 calories)\n",
            "* Lunch: Mixed vegetable biryani with brown rice, lentils, and a small serving of ghee (500 calories)\n",
            "* Evening Snack: Roasted makhana (fox nuts) seasoned with cumin and coriander (150 calories)\n",
            "* Dinner: Usal (a Maharashtrian curry made with sprouted lentils, onions, and spices) with brown rice and mixed vegetables (450 calories)\n",
            "\n",
            "**Thursday**\n",
            "\n",
            "* Breakfast: Whole wheat toast with scrambled eggs and a glass of low-fat milk (250 calories)\n",
            "* Mid-Morning Snack: Fresh fruit smoothie with yogurt, spinach, and honey (200 calories)\n",
            "* Lunch: Dalimbi usal (a Maharashtrian curry made with sprouted lentils, onions, and spices) with brown rice and mixed vegetables (500 calories)\n",
            "* Evening Snack: Roasted peanuts seasoned with cumin and coriander (150 calories)\n",
            "* Dinner: Grilled chicken breast with a side of mixed vegetables and brown rice (400 calories)\n",
            "\n",
            "**Friday**\n",
            "\n",
            "* Breakfast: Whole wheat dosa with sambar (lentil-based vegetable stew) and a glass of low-fat milk (350 calories)\n",
            "* Mid-Morning Snack: Cucumber and mint raita (a yogurt-based side dish) (150 calories)\n",
            "* Lunch: Mixed vegetable curry with brown rice, lentils, and a small serving of ghee (500 calories)\n",
            "* Evening Snack: Fresh fruit salad with a sprinkle of cardamom powder (120 calories)\n",
            "* Dinner: Solkadhi with brown rice and mixed vegetables (500 calories)\n",
            "\n",
            "**Saturday**\n",
            "\n",
            "* Breakfast: Whole wheat bhakri with avocado and a glass of low-fat milk (350 calories)\n",
            "* Mid-Morning Snack: Yogurt with cucumber and cumin seeds (150 calories)\n",
            "* Lunch: Varan-bhaat with brown rice, mixed vegetables, and a small serving of ghee (450 calories)\n",
            "* Evening Snack: Roasted chana (chickpeas) seasoned with cumin and coriander (150 calories)\n",
            "* Dinner: Grilled fish (e.g., surmai or pomfret) with a side of mixed vegetables and brown rice (400 calories)\n",
            "\n",
            "**Sunday**\n",
            "\n",
            "* Breakfast: Oatmeal with banana, almond milk, and a sprinkle of cinnamon (300 calories)\n",
            "* Mid-Morning Snack: Carrot and cucumber sticks with hummus (100 calories)\n",
            "* Lunch: Mixed vegetable biryani with brown rice, lentils, and a small serving of ghee (500 calories)\n",
            "* Evening Snack: Fresh fruit salad with a sprinkle of cardamom powder (120 calories)\n",
            "* Dinner: Usal with brown rice and mixed vegetables (450 calories)\n",
            "\n",
            "**Tips and Reminders:**\n",
            "\n",
            "1. Drink at least 8-10 glasses of water throughout the day.\n",
            "2. Incorporate physical activity, such as brisk walking, for at least 30 minutes a day.\n",
            "3. Limit sodium intake to less than 2,300 milligrams per day.\n",
            "4. Choose low-fat dairy products and lean protein sources.\n",
            "5. Incorporate stress-reducing techniques, such as meditation or deep breathing exercises, to manage Hypertension.\n",
            "\n",
            "**Disclaimer:**\n",
            "\n",
            "This diet plan is customized based on your preferences and health conditions. However, it is essential to consult with a healthcare professional or a registered dietitian for personalized advice. Please note that this plan is for general guidance only and may need to be modified based on individual requirements.\n",
            "\n",
            "I hope this diet plan helps you manage your Hypertension and supports your overall health and well-being!\n",
            "\n"
          ]
        }
      ]
    },
    {
      "cell_type": "code",
      "source": [],
      "metadata": {
        "id": "JvUig04I4THu"
      },
      "execution_count": null,
      "outputs": []
    }
  ]
}